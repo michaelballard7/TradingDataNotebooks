{
 "cells": [
  {
   "cell_type": "code",
   "execution_count": 2,
   "metadata": {},
   "outputs": [],
   "source": [
    "import quandl"
   ]
  },
  {
   "cell_type": "code",
   "execution_count": 3,
   "metadata": {},
   "outputs": [],
   "source": [
    "import matplotlib as mlp"
   ]
  },
  {
   "cell_type": "code",
   "execution_count": 4,
   "metadata": {},
   "outputs": [],
   "source": [
    "import pandas as pd"
   ]
  },
  {
   "cell_type": "code",
   "execution_count": 5,
   "metadata": {},
   "outputs": [],
   "source": [
    "aapl = quandl.get(\"WIKI/AAPL\", start_date=\"2018-01-01\", end_date=\"2018-03-01\")"
   ]
  },
  {
   "cell_type": "code",
   "execution_count": 6,
   "metadata": {},
   "outputs": [
    {
     "data": {
      "text/plain": [
       "pandas.core.frame.DataFrame"
      ]
     },
     "execution_count": 6,
     "metadata": {},
     "output_type": "execute_result"
    }
   ],
   "source": [
    "type(aapl)"
   ]
  },
  {
   "cell_type": "code",
   "execution_count": 7,
   "metadata": {},
   "outputs": [],
   "source": [
    "aapl_numpy_array = quandl.get(\"WIKI/AAPL\",start_date=\"2018-01-01\", end_date=\"2018-01-01\", returns=\"numpy\" )"
   ]
  },
  {
   "cell_type": "code",
   "execution_count": 8,
   "metadata": {},
   "outputs": [
    {
     "data": {
      "text/plain": [
       "numpy.recarray"
      ]
     },
     "execution_count": 8,
     "metadata": {},
     "output_type": "execute_result"
    }
   ],
   "source": [
    "type(aapl_numpy_array)"
   ]
  },
  {
   "cell_type": "code",
   "execution_count": 9,
   "metadata": {},
   "outputs": [
    {
     "data": {
      "text/html": [
       "<div>\n",
       "<table border=\"1\" class=\"dataframe\">\n",
       "  <thead>\n",
       "    <tr style=\"text-align: right;\">\n",
       "      <th></th>\n",
       "      <th>Open</th>\n",
       "      <th>High</th>\n",
       "      <th>Low</th>\n",
       "      <th>Close</th>\n",
       "      <th>Volume</th>\n",
       "      <th>Ex-Dividend</th>\n",
       "      <th>Split Ratio</th>\n",
       "      <th>Adj. Open</th>\n",
       "      <th>Adj. High</th>\n",
       "      <th>Adj. Low</th>\n",
       "      <th>Adj. Close</th>\n",
       "      <th>Adj. Volume</th>\n",
       "    </tr>\n",
       "    <tr>\n",
       "      <th>Date</th>\n",
       "      <th></th>\n",
       "      <th></th>\n",
       "      <th></th>\n",
       "      <th></th>\n",
       "      <th></th>\n",
       "      <th></th>\n",
       "      <th></th>\n",
       "      <th></th>\n",
       "      <th></th>\n",
       "      <th></th>\n",
       "      <th></th>\n",
       "      <th></th>\n",
       "    </tr>\n",
       "  </thead>\n",
       "  <tbody>\n",
       "    <tr>\n",
       "      <th>2018-01-02</th>\n",
       "      <td>170.16</td>\n",
       "      <td>172.30</td>\n",
       "      <td>169.26</td>\n",
       "      <td>172.26</td>\n",
       "      <td>25048048.0</td>\n",
       "      <td>0.0</td>\n",
       "      <td>1.0</td>\n",
       "      <td>170.16</td>\n",
       "      <td>172.30</td>\n",
       "      <td>169.26</td>\n",
       "      <td>172.26</td>\n",
       "      <td>25048048.0</td>\n",
       "    </tr>\n",
       "    <tr>\n",
       "      <th>2018-01-03</th>\n",
       "      <td>172.53</td>\n",
       "      <td>174.55</td>\n",
       "      <td>171.96</td>\n",
       "      <td>172.23</td>\n",
       "      <td>28819653.0</td>\n",
       "      <td>0.0</td>\n",
       "      <td>1.0</td>\n",
       "      <td>172.53</td>\n",
       "      <td>174.55</td>\n",
       "      <td>171.96</td>\n",
       "      <td>172.23</td>\n",
       "      <td>28819653.0</td>\n",
       "    </tr>\n",
       "    <tr>\n",
       "      <th>2018-01-04</th>\n",
       "      <td>172.54</td>\n",
       "      <td>173.47</td>\n",
       "      <td>172.08</td>\n",
       "      <td>173.03</td>\n",
       "      <td>22211345.0</td>\n",
       "      <td>0.0</td>\n",
       "      <td>1.0</td>\n",
       "      <td>172.54</td>\n",
       "      <td>173.47</td>\n",
       "      <td>172.08</td>\n",
       "      <td>173.03</td>\n",
       "      <td>22211345.0</td>\n",
       "    </tr>\n",
       "    <tr>\n",
       "      <th>2018-01-05</th>\n",
       "      <td>173.44</td>\n",
       "      <td>175.37</td>\n",
       "      <td>173.05</td>\n",
       "      <td>175.00</td>\n",
       "      <td>23016177.0</td>\n",
       "      <td>0.0</td>\n",
       "      <td>1.0</td>\n",
       "      <td>173.44</td>\n",
       "      <td>175.37</td>\n",
       "      <td>173.05</td>\n",
       "      <td>175.00</td>\n",
       "      <td>23016177.0</td>\n",
       "    </tr>\n",
       "    <tr>\n",
       "      <th>2018-01-08</th>\n",
       "      <td>174.35</td>\n",
       "      <td>175.61</td>\n",
       "      <td>173.93</td>\n",
       "      <td>174.35</td>\n",
       "      <td>20134092.0</td>\n",
       "      <td>0.0</td>\n",
       "      <td>1.0</td>\n",
       "      <td>174.35</td>\n",
       "      <td>175.61</td>\n",
       "      <td>173.93</td>\n",
       "      <td>174.35</td>\n",
       "      <td>20134092.0</td>\n",
       "    </tr>\n",
       "  </tbody>\n",
       "</table>\n",
       "</div>"
      ],
      "text/plain": [
       "              Open    High     Low   Close      Volume  Ex-Dividend  \\\n",
       "Date                                                                  \n",
       "2018-01-02  170.16  172.30  169.26  172.26  25048048.0          0.0   \n",
       "2018-01-03  172.53  174.55  171.96  172.23  28819653.0          0.0   \n",
       "2018-01-04  172.54  173.47  172.08  173.03  22211345.0          0.0   \n",
       "2018-01-05  173.44  175.37  173.05  175.00  23016177.0          0.0   \n",
       "2018-01-08  174.35  175.61  173.93  174.35  20134092.0          0.0   \n",
       "\n",
       "            Split Ratio  Adj. Open  Adj. High  Adj. Low  Adj. Close  \\\n",
       "Date                                                                  \n",
       "2018-01-02          1.0     170.16     172.30    169.26      172.26   \n",
       "2018-01-03          1.0     172.53     174.55    171.96      172.23   \n",
       "2018-01-04          1.0     172.54     173.47    172.08      173.03   \n",
       "2018-01-05          1.0     173.44     175.37    173.05      175.00   \n",
       "2018-01-08          1.0     174.35     175.61    173.93      174.35   \n",
       "\n",
       "            Adj. Volume  \n",
       "Date                     \n",
       "2018-01-02   25048048.0  \n",
       "2018-01-03   28819653.0  \n",
       "2018-01-04   22211345.0  \n",
       "2018-01-05   23016177.0  \n",
       "2018-01-08   20134092.0  "
      ]
     },
     "execution_count": 9,
     "metadata": {},
     "output_type": "execute_result"
    }
   ],
   "source": [
    "aapl.head()"
   ]
  },
  {
   "cell_type": "code",
   "execution_count": 10,
   "metadata": {},
   "outputs": [
    {
     "data": {
      "text/html": [
       "<div>\n",
       "<table border=\"1\" class=\"dataframe\">\n",
       "  <thead>\n",
       "    <tr style=\"text-align: right;\">\n",
       "      <th></th>\n",
       "      <th>Open</th>\n",
       "      <th>High</th>\n",
       "      <th>Low</th>\n",
       "      <th>Close</th>\n",
       "      <th>Volume</th>\n",
       "      <th>Ex-Dividend</th>\n",
       "      <th>Split Ratio</th>\n",
       "      <th>Adj. Open</th>\n",
       "      <th>Adj. High</th>\n",
       "      <th>Adj. Low</th>\n",
       "      <th>Adj. Close</th>\n",
       "      <th>Adj. Volume</th>\n",
       "    </tr>\n",
       "    <tr>\n",
       "      <th>Date</th>\n",
       "      <th></th>\n",
       "      <th></th>\n",
       "      <th></th>\n",
       "      <th></th>\n",
       "      <th></th>\n",
       "      <th></th>\n",
       "      <th></th>\n",
       "      <th></th>\n",
       "      <th></th>\n",
       "      <th></th>\n",
       "      <th></th>\n",
       "      <th></th>\n",
       "    </tr>\n",
       "  </thead>\n",
       "  <tbody>\n",
       "    <tr>\n",
       "      <th>2018-02-23</th>\n",
       "      <td>173.67</td>\n",
       "      <td>175.650</td>\n",
       "      <td>173.54</td>\n",
       "      <td>175.555</td>\n",
       "      <td>33329232.0</td>\n",
       "      <td>0.0</td>\n",
       "      <td>1.0</td>\n",
       "      <td>173.67</td>\n",
       "      <td>175.650</td>\n",
       "      <td>173.54</td>\n",
       "      <td>175.555</td>\n",
       "      <td>33329232.0</td>\n",
       "    </tr>\n",
       "    <tr>\n",
       "      <th>2018-02-26</th>\n",
       "      <td>176.35</td>\n",
       "      <td>179.390</td>\n",
       "      <td>176.21</td>\n",
       "      <td>178.970</td>\n",
       "      <td>36886432.0</td>\n",
       "      <td>0.0</td>\n",
       "      <td>1.0</td>\n",
       "      <td>176.35</td>\n",
       "      <td>179.390</td>\n",
       "      <td>176.21</td>\n",
       "      <td>178.970</td>\n",
       "      <td>36886432.0</td>\n",
       "    </tr>\n",
       "    <tr>\n",
       "      <th>2018-02-27</th>\n",
       "      <td>179.10</td>\n",
       "      <td>180.480</td>\n",
       "      <td>178.16</td>\n",
       "      <td>178.390</td>\n",
       "      <td>38685165.0</td>\n",
       "      <td>0.0</td>\n",
       "      <td>1.0</td>\n",
       "      <td>179.10</td>\n",
       "      <td>180.480</td>\n",
       "      <td>178.16</td>\n",
       "      <td>178.390</td>\n",
       "      <td>38685165.0</td>\n",
       "    </tr>\n",
       "    <tr>\n",
       "      <th>2018-02-28</th>\n",
       "      <td>179.26</td>\n",
       "      <td>180.615</td>\n",
       "      <td>178.05</td>\n",
       "      <td>178.120</td>\n",
       "      <td>33604574.0</td>\n",
       "      <td>0.0</td>\n",
       "      <td>1.0</td>\n",
       "      <td>179.26</td>\n",
       "      <td>180.615</td>\n",
       "      <td>178.05</td>\n",
       "      <td>178.120</td>\n",
       "      <td>33604574.0</td>\n",
       "    </tr>\n",
       "    <tr>\n",
       "      <th>2018-03-01</th>\n",
       "      <td>178.54</td>\n",
       "      <td>179.775</td>\n",
       "      <td>172.66</td>\n",
       "      <td>175.000</td>\n",
       "      <td>48801970.0</td>\n",
       "      <td>0.0</td>\n",
       "      <td>1.0</td>\n",
       "      <td>178.54</td>\n",
       "      <td>179.775</td>\n",
       "      <td>172.66</td>\n",
       "      <td>175.000</td>\n",
       "      <td>48801970.0</td>\n",
       "    </tr>\n",
       "  </tbody>\n",
       "</table>\n",
       "</div>"
      ],
      "text/plain": [
       "              Open     High     Low    Close      Volume  Ex-Dividend  \\\n",
       "Date                                                                    \n",
       "2018-02-23  173.67  175.650  173.54  175.555  33329232.0          0.0   \n",
       "2018-02-26  176.35  179.390  176.21  178.970  36886432.0          0.0   \n",
       "2018-02-27  179.10  180.480  178.16  178.390  38685165.0          0.0   \n",
       "2018-02-28  179.26  180.615  178.05  178.120  33604574.0          0.0   \n",
       "2018-03-01  178.54  179.775  172.66  175.000  48801970.0          0.0   \n",
       "\n",
       "            Split Ratio  Adj. Open  Adj. High  Adj. Low  Adj. Close  \\\n",
       "Date                                                                  \n",
       "2018-02-23          1.0     173.67    175.650    173.54     175.555   \n",
       "2018-02-26          1.0     176.35    179.390    176.21     178.970   \n",
       "2018-02-27          1.0     179.10    180.480    178.16     178.390   \n",
       "2018-02-28          1.0     179.26    180.615    178.05     178.120   \n",
       "2018-03-01          1.0     178.54    179.775    172.66     175.000   \n",
       "\n",
       "            Adj. Volume  \n",
       "Date                     \n",
       "2018-02-23   33329232.0  \n",
       "2018-02-26   36886432.0  \n",
       "2018-02-27   38685165.0  \n",
       "2018-02-28   33604574.0  \n",
       "2018-03-01   48801970.0  "
      ]
     },
     "execution_count": 10,
     "metadata": {},
     "output_type": "execute_result"
    }
   ],
   "source": [
    "aapl.tail()"
   ]
  },
  {
   "cell_type": "code",
   "execution_count": 11,
   "metadata": {},
   "outputs": [],
   "source": [
    "fb = quandl.get(\"WIKI/FB\",start_date=\"18-01-01\", end_date=\"18-02-01\", collapse=\"monthly\")"
   ]
  },
  {
   "cell_type": "code",
   "execution_count": 12,
   "metadata": {},
   "outputs": [
    {
     "data": {
      "text/html": [
       "<div>\n",
       "<table border=\"1\" class=\"dataframe\">\n",
       "  <thead>\n",
       "    <tr style=\"text-align: right;\">\n",
       "      <th></th>\n",
       "      <th>Open</th>\n",
       "      <th>High</th>\n",
       "      <th>Low</th>\n",
       "      <th>Close</th>\n",
       "      <th>Volume</th>\n",
       "      <th>Ex-Dividend</th>\n",
       "      <th>Split Ratio</th>\n",
       "      <th>Adj. Open</th>\n",
       "      <th>Adj. High</th>\n",
       "      <th>Adj. Low</th>\n",
       "      <th>Adj. Close</th>\n",
       "      <th>Adj. Volume</th>\n",
       "    </tr>\n",
       "    <tr>\n",
       "      <th>Date</th>\n",
       "      <th></th>\n",
       "      <th></th>\n",
       "      <th></th>\n",
       "      <th></th>\n",
       "      <th></th>\n",
       "      <th></th>\n",
       "      <th></th>\n",
       "      <th></th>\n",
       "      <th></th>\n",
       "      <th></th>\n",
       "      <th></th>\n",
       "      <th></th>\n",
       "    </tr>\n",
       "  </thead>\n",
       "  <tbody>\n",
       "    <tr>\n",
       "      <th>2018-01-31</th>\n",
       "      <td>188.37</td>\n",
       "      <td>189.83</td>\n",
       "      <td>185.22</td>\n",
       "      <td>186.89</td>\n",
       "      <td>27299152.0</td>\n",
       "      <td>0.0</td>\n",
       "      <td>1.0</td>\n",
       "      <td>188.37</td>\n",
       "      <td>189.83</td>\n",
       "      <td>185.22</td>\n",
       "      <td>186.89</td>\n",
       "      <td>27299152.0</td>\n",
       "    </tr>\n",
       "    <tr>\n",
       "      <th>2018-02-28</th>\n",
       "      <td>188.22</td>\n",
       "      <td>195.32</td>\n",
       "      <td>187.89</td>\n",
       "      <td>193.09</td>\n",
       "      <td>53608910.0</td>\n",
       "      <td>0.0</td>\n",
       "      <td>1.0</td>\n",
       "      <td>188.22</td>\n",
       "      <td>195.32</td>\n",
       "      <td>187.89</td>\n",
       "      <td>193.09</td>\n",
       "      <td>53608910.0</td>\n",
       "    </tr>\n",
       "  </tbody>\n",
       "</table>\n",
       "</div>"
      ],
      "text/plain": [
       "              Open    High     Low   Close      Volume  Ex-Dividend  \\\n",
       "Date                                                                  \n",
       "2018-01-31  188.37  189.83  185.22  186.89  27299152.0          0.0   \n",
       "2018-02-28  188.22  195.32  187.89  193.09  53608910.0          0.0   \n",
       "\n",
       "            Split Ratio  Adj. Open  Adj. High  Adj. Low  Adj. Close  \\\n",
       "Date                                                                  \n",
       "2018-01-31          1.0     188.37     189.83    185.22      186.89   \n",
       "2018-02-28          1.0     188.22     195.32    187.89      193.09   \n",
       "\n",
       "            Adj. Volume  \n",
       "Date                     \n",
       "2018-01-31   27299152.0  \n",
       "2018-02-28   53608910.0  "
      ]
     },
     "execution_count": 12,
     "metadata": {},
     "output_type": "execute_result"
    }
   ],
   "source": [
    "fb.head()"
   ]
  },
  {
   "cell_type": "code",
   "execution_count": 13,
   "metadata": {},
   "outputs": [
    {
     "data": {
      "text/html": [
       "<div>\n",
       "<table border=\"1\" class=\"dataframe\">\n",
       "  <thead>\n",
       "    <tr style=\"text-align: right;\">\n",
       "      <th></th>\n",
       "      <th>Open</th>\n",
       "      <th>High</th>\n",
       "      <th>Low</th>\n",
       "      <th>Close</th>\n",
       "      <th>Volume</th>\n",
       "      <th>Ex-Dividend</th>\n",
       "      <th>Split Ratio</th>\n",
       "      <th>Adj. Open</th>\n",
       "      <th>Adj. High</th>\n",
       "      <th>Adj. Low</th>\n",
       "      <th>Adj. Close</th>\n",
       "      <th>Adj. Volume</th>\n",
       "    </tr>\n",
       "    <tr>\n",
       "      <th>Date</th>\n",
       "      <th></th>\n",
       "      <th></th>\n",
       "      <th></th>\n",
       "      <th></th>\n",
       "      <th></th>\n",
       "      <th></th>\n",
       "      <th></th>\n",
       "      <th></th>\n",
       "      <th></th>\n",
       "      <th></th>\n",
       "      <th></th>\n",
       "      <th></th>\n",
       "    </tr>\n",
       "  </thead>\n",
       "  <tbody>\n",
       "    <tr>\n",
       "      <th>2018-01-31</th>\n",
       "      <td>188.37</td>\n",
       "      <td>189.83</td>\n",
       "      <td>185.22</td>\n",
       "      <td>186.89</td>\n",
       "      <td>27299152.0</td>\n",
       "      <td>0.0</td>\n",
       "      <td>1.0</td>\n",
       "      <td>188.37</td>\n",
       "      <td>189.83</td>\n",
       "      <td>185.22</td>\n",
       "      <td>186.89</td>\n",
       "      <td>27299152.0</td>\n",
       "    </tr>\n",
       "    <tr>\n",
       "      <th>2018-02-28</th>\n",
       "      <td>188.22</td>\n",
       "      <td>195.32</td>\n",
       "      <td>187.89</td>\n",
       "      <td>193.09</td>\n",
       "      <td>53608910.0</td>\n",
       "      <td>0.0</td>\n",
       "      <td>1.0</td>\n",
       "      <td>188.22</td>\n",
       "      <td>195.32</td>\n",
       "      <td>187.89</td>\n",
       "      <td>193.09</td>\n",
       "      <td>53608910.0</td>\n",
       "    </tr>\n",
       "  </tbody>\n",
       "</table>\n",
       "</div>"
      ],
      "text/plain": [
       "              Open    High     Low   Close      Volume  Ex-Dividend  \\\n",
       "Date                                                                  \n",
       "2018-01-31  188.37  189.83  185.22  186.89  27299152.0          0.0   \n",
       "2018-02-28  188.22  195.32  187.89  193.09  53608910.0          0.0   \n",
       "\n",
       "            Split Ratio  Adj. Open  Adj. High  Adj. Low  Adj. Close  \\\n",
       "Date                                                                  \n",
       "2018-01-31          1.0     188.37     189.83    185.22      186.89   \n",
       "2018-02-28          1.0     188.22     195.32    187.89      193.09   \n",
       "\n",
       "            Adj. Volume  \n",
       "Date                     \n",
       "2018-01-31   27299152.0  \n",
       "2018-02-28   53608910.0  "
      ]
     },
     "execution_count": 13,
     "metadata": {},
     "output_type": "execute_result"
    }
   ],
   "source": [
    "fb.tail()"
   ]
  },
  {
   "cell_type": "markdown",
   "metadata": {},
   "source": [
    "    Reading in CSV time series data:"
   ]
  },
  {
   "cell_type": "code",
   "execution_count": 14,
   "metadata": {},
   "outputs": [],
   "source": [
    "fb_dataframe_csv = pd.read_csv(\"WIKI-FB.csv\")"
   ]
  },
  {
   "cell_type": "code",
   "execution_count": 15,
   "metadata": {},
   "outputs": [
    {
     "data": {
      "text/html": [
       "<div>\n",
       "<table border=\"1\" class=\"dataframe\">\n",
       "  <thead>\n",
       "    <tr style=\"text-align: right;\">\n",
       "      <th></th>\n",
       "      <th>Date</th>\n",
       "      <th>Open</th>\n",
       "      <th>High</th>\n",
       "      <th>Low</th>\n",
       "      <th>Close</th>\n",
       "      <th>Volume</th>\n",
       "      <th>Ex-Dividend</th>\n",
       "      <th>Split Ratio</th>\n",
       "      <th>Adj. Open</th>\n",
       "      <th>Adj. High</th>\n",
       "      <th>Adj. Low</th>\n",
       "      <th>Adj. Close</th>\n",
       "      <th>Adj. Volume</th>\n",
       "    </tr>\n",
       "  </thead>\n",
       "  <tbody>\n",
       "    <tr>\n",
       "      <th>0</th>\n",
       "      <td>2017-10-27</td>\n",
       "      <td>174.15</td>\n",
       "      <td>178.210</td>\n",
       "      <td>173.90</td>\n",
       "      <td>177.88</td>\n",
       "      <td>29867490.0</td>\n",
       "      <td>0.0</td>\n",
       "      <td>1.0</td>\n",
       "      <td>174.15</td>\n",
       "      <td>178.210</td>\n",
       "      <td>173.90</td>\n",
       "      <td>177.88</td>\n",
       "      <td>29867490.0</td>\n",
       "    </tr>\n",
       "    <tr>\n",
       "      <th>1</th>\n",
       "      <td>2017-10-26</td>\n",
       "      <td>171.38</td>\n",
       "      <td>172.285</td>\n",
       "      <td>170.39</td>\n",
       "      <td>170.63</td>\n",
       "      <td>10932929.0</td>\n",
       "      <td>0.0</td>\n",
       "      <td>1.0</td>\n",
       "      <td>171.38</td>\n",
       "      <td>172.285</td>\n",
       "      <td>170.39</td>\n",
       "      <td>170.63</td>\n",
       "      <td>10932929.0</td>\n",
       "    </tr>\n",
       "    <tr>\n",
       "      <th>2</th>\n",
       "      <td>2017-10-25</td>\n",
       "      <td>171.90</td>\n",
       "      <td>172.250</td>\n",
       "      <td>168.89</td>\n",
       "      <td>170.60</td>\n",
       "      <td>15095603.0</td>\n",
       "      <td>0.0</td>\n",
       "      <td>1.0</td>\n",
       "      <td>171.90</td>\n",
       "      <td>172.250</td>\n",
       "      <td>168.89</td>\n",
       "      <td>170.60</td>\n",
       "      <td>15095603.0</td>\n",
       "    </tr>\n",
       "    <tr>\n",
       "      <th>3</th>\n",
       "      <td>2017-10-24</td>\n",
       "      <td>172.30</td>\n",
       "      <td>173.240</td>\n",
       "      <td>171.50</td>\n",
       "      <td>171.80</td>\n",
       "      <td>11629341.0</td>\n",
       "      <td>0.0</td>\n",
       "      <td>1.0</td>\n",
       "      <td>172.30</td>\n",
       "      <td>173.240</td>\n",
       "      <td>171.50</td>\n",
       "      <td>171.80</td>\n",
       "      <td>11629341.0</td>\n",
       "    </tr>\n",
       "    <tr>\n",
       "      <th>4</th>\n",
       "      <td>2017-10-23</td>\n",
       "      <td>175.20</td>\n",
       "      <td>175.340</td>\n",
       "      <td>171.25</td>\n",
       "      <td>171.27</td>\n",
       "      <td>13622072.0</td>\n",
       "      <td>0.0</td>\n",
       "      <td>1.0</td>\n",
       "      <td>175.20</td>\n",
       "      <td>175.340</td>\n",
       "      <td>171.25</td>\n",
       "      <td>171.27</td>\n",
       "      <td>13622072.0</td>\n",
       "    </tr>\n",
       "  </tbody>\n",
       "</table>\n",
       "</div>"
      ],
      "text/plain": [
       "         Date    Open     High     Low   Close      Volume  Ex-Dividend  \\\n",
       "0  2017-10-27  174.15  178.210  173.90  177.88  29867490.0          0.0   \n",
       "1  2017-10-26  171.38  172.285  170.39  170.63  10932929.0          0.0   \n",
       "2  2017-10-25  171.90  172.250  168.89  170.60  15095603.0          0.0   \n",
       "3  2017-10-24  172.30  173.240  171.50  171.80  11629341.0          0.0   \n",
       "4  2017-10-23  175.20  175.340  171.25  171.27  13622072.0          0.0   \n",
       "\n",
       "   Split Ratio  Adj. Open  Adj. High  Adj. Low  Adj. Close  Adj. Volume  \n",
       "0          1.0     174.15    178.210    173.90      177.88   29867490.0  \n",
       "1          1.0     171.38    172.285    170.39      170.63   10932929.0  \n",
       "2          1.0     171.90    172.250    168.89      170.60   15095603.0  \n",
       "3          1.0     172.30    173.240    171.50      171.80   11629341.0  \n",
       "4          1.0     175.20    175.340    171.25      171.27   13622072.0  "
      ]
     },
     "execution_count": 15,
     "metadata": {},
     "output_type": "execute_result"
    }
   ],
   "source": [
    "fb_dataframe_csv.head()"
   ]
  },
  {
   "cell_type": "code",
   "execution_count": 16,
   "metadata": {},
   "outputs": [
    {
     "data": {
      "text/plain": [
       "RangeIndex(start=0, stop=1371, step=1)"
      ]
     },
     "execution_count": 16,
     "metadata": {},
     "output_type": "execute_result"
    }
   ],
   "source": [
    "fb_dataframe_csv.index"
   ]
  },
  {
   "cell_type": "code",
   "execution_count": 17,
   "metadata": {},
   "outputs": [
    {
     "data": {
      "text/plain": [
       "178.21"
      ]
     },
     "execution_count": 17,
     "metadata": {},
     "output_type": "execute_result"
    }
   ],
   "source": [
    "fb_dataframe_csv[\"High\"].max()"
   ]
  },
  {
   "cell_type": "code",
   "execution_count": 18,
   "metadata": {},
   "outputs": [
    {
     "data": {
      "text/plain": [
       "17.55"
      ]
     },
     "execution_count": 18,
     "metadata": {},
     "output_type": "execute_result"
    }
   ],
   "source": [
    "fb_dataframe_csv[\"Low\"].min()"
   ]
  },
  {
   "cell_type": "code",
   "execution_count": 19,
   "metadata": {},
   "outputs": [
    {
     "data": {
      "text/plain": [
       "High    83.694619\n",
       "Low     81.929668\n",
       "dtype: float64"
      ]
     },
     "execution_count": 19,
     "metadata": {},
     "output_type": "execute_result"
    }
   ],
   "source": [
    "fb_dataframe_csv[[\"High\",\"Low\"]].mean()"
   ]
  },
  {
   "cell_type": "code",
   "execution_count": null,
   "metadata": {},
   "outputs": [],
   "source": []
  }
 ],
 "metadata": {
  "kernelspec": {
   "display_name": "Python 3",
   "language": "python",
   "name": "python3"
  },
  "language_info": {
   "codemirror_mode": {
    "name": "ipython",
    "version": 3
   },
   "file_extension": ".py",
   "mimetype": "text/x-python",
   "name": "python",
   "nbconvert_exporter": "python",
   "pygments_lexer": "ipython3",
   "version": "3.6.4"
  }
 },
 "nbformat": 4,
 "nbformat_minor": 2
}
